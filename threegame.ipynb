{
 "cells": [
  {
   "attachments": {},
   "cell_type": "markdown",
   "metadata": {},
   "source": [
    "# El paisano , el lobo, la oveja y el pienso"
   ]
  },
  {
   "cell_type": "code",
   "execution_count": 2,
   "metadata": {},
   "outputs": [
    {
     "name": "stdout",
     "output_type": "stream",
     "text": [
      "[{'C', 'L', 'H'}, {'P'}]\n",
      "[{'L', 'H'}, {'P', 'C'}]\n",
      "[{'C', 'H'}, {'P', 'L'}]\n",
      "[{'C', 'L'}, {'P', 'H'}]\n"
     ]
    }
   ],
   "source": [
    "import copy\n",
    "\n",
    "# P = Paisano\n",
    "# L = Lobo\n",
    "# C = Cordero\n",
    "# H = Heno\n",
    "\n",
    "estado_inicial = [{\"P\",\"L\",\"C\",\"H\"} , set()]\n",
    "estado_final = [set() , {\"P\",\"L\",\"C\",\"H\"}]\n",
    "\n",
    "def is_valid_state(s):\n",
    "    assert type(s) == list and len(s)==2\n",
    "    assert type(s[0]) == set\n",
    "    # assert type(s[1]) == set\n",
    "\n",
    "    def is_valid_shore(s):\n",
    "        if {\"P\"}     <= s:  return True\n",
    "        if {\"L\",\"C\"} <= s:  return False\n",
    "        if {\"C\",\"H\"} <= s:  return False\n",
    "        return True\n",
    "    \n",
    "    if is_valid_shore(s[0]) and is_valid_shore(s[1]): return True\n",
    "    else:                                             return False\n",
    "\n",
    "# Para comprobar si la funcion devuelve un True o False respectoa al estado dado en una y otra orilla\n",
    "# is_valid_state([{\"L\",\"H\"},{\"C\",\"P\"}])\n",
    "\n",
    "def states(s):\n",
    "    # assert type(s)== list and len(s)==2\n",
    "    # assert type(s[0]) == set\n",
    "\n",
    "\n",
    "    lp=0 if \"P\" in s[0] else 1     # lp = lado del lado del paisano\n",
    "    np=1 if \"P\" in s[0] else 0     # np = no esta el paisano\n",
    "\n",
    "    ns=copy.deepcopy(s)\n",
    "    ns[np].add(\"P\")\n",
    "    ns[lp].remove(\"P\")\n",
    "    yield ns\n",
    "\n",
    "    for c in s[lp].difference({\"P\"}):\n",
    "        ns=copy.deepcopy(s)\n",
    "        ns[np].add(\"P\")\n",
    "        ns[np].add(c)\n",
    "        ns[lp].remove(\"P\")\n",
    "        ns[lp].remove(c)\n",
    "        yield ns\n",
    "\n",
    "for s in states(estado_inicial):\n",
    "    print(s)"
   ]
  },
  {
   "cell_type": "code",
   "execution_count": 3,
   "metadata": {},
   "outputs": [
    {
     "name": "stdout",
     "output_type": "stream",
     "text": [
      "[{'C', 'L', 'H'}, {'P'}]\n",
      "[{'L', 'H'}, {'P', 'C'}]\n",
      "[{'C', 'H'}, {'P', 'L'}]\n",
      "[{'L', 'C'}, {'P', 'H'}]\n"
     ]
    }
   ],
   "source": [
    "import copy\n",
    "\n",
    "# P = Paisano\n",
    "# L = Lobo\n",
    "# C = Cordero\n",
    "# H = Heno\n",
    "\n",
    "estado_inicial = [{\"P\",\"L\",\"C\",\"H\"} , set()]\n",
    "estado_final = [set() , {\"P\",\"L\",\"C\",\"H\"}]\n",
    "\n",
    "def is_valid_state(s):\n",
    "    assert type(s) == list and len(s)==2\n",
    "    assert type(s[0]) == set\n",
    "    # assert type(s[1]) == set\n",
    "\n",
    "    def is_valid_shore(s):\n",
    "        if {\"P\"}     <= s:  return True\n",
    "        if {\"L\",\"C\"} <= s:  return False\n",
    "        if {\"C\",\"H\"} <= s:  return False\n",
    "        return True\n",
    "    \n",
    "    if is_valid_shore(s[0]) and is_valid_shore(s[1]): return True\n",
    "    else:                                             return False\n",
    "\n",
    "# Para comprobar si la funcion devuelve un True o False respectoa al estado dado en una y otra orilla\n",
    "# is_valid_state([{\"L\",\"H\"},{\"C\",\"P\"}])\n",
    "\n",
    "def states(s):\n",
    "    # assert type(s)== list and len(s)==2\n",
    "    # assert type(s[0]) == set\n",
    "\n",
    "\n",
    "    lp=0 if \"P\" in s[0] else 1     # lp = lado del lado del paisano\n",
    "    np=1 if \"P\" in s[0] else 0     # np = no esta el paisano\n",
    "\n",
    "    ns=copy.deepcopy(s)\n",
    "    ns[np].add(\"P\")\n",
    "    ns[lp].remove(\"P\")\n",
    "    yield ns\n",
    "\n",
    "    for c in s[lp].difference({\"P\"}):\n",
    "        ns=copy.deepcopy(s)\n",
    "        ns[np]=ns[np].union({\"P\",c})\n",
    "        ns[lp]=ns[lp].difference({\"P\",c})\n",
    "        yield ns\n",
    "\n",
    "for s in states(estado_inicial):\n",
    "    print(s)"
   ]
  },
  {
   "cell_type": "code",
   "execution_count": 4,
   "metadata": {},
   "outputs": [
    {
     "name": "stdout",
     "output_type": "stream",
     "text": [
      "[[{'P', 'L', 'C', 'H'}, set()], [{'L', 'H'}, {'P', 'C'}], [{'P', 'L', 'H'}, {'C'}], [{'P', 'C', 'L', 'H'}, set()], [{'L', 'H'}, {'P', 'C'}], [{'H'}, {'P', 'L', 'C'}], [{'L'}, {'P', 'C', 'H'}], [{'L', 'H'}, {'P', 'C'}], [{'P', 'L', 'H'}, {'C'}], [{'P', 'C', 'L', 'H'}, set()], [{'P', 'C', 'H'}, {'L'}], [{'P', 'L', 'H'}, {'C'}], [{'P', 'C', 'L'}, {'H'}], [{'P', 'L', 'H'}, {'C'}], [{'P', 'L', 'H'}, {'C'}], [{'P', 'C', 'L', 'H'}, set()], [{'L', 'H'}, {'P', 'C'}], [{'H'}, {'P', 'L', 'C'}], [{'L'}, {'P', 'C', 'H'}], [{'L', 'H'}, {'P', 'C'}], [{'H'}, {'P', 'C', 'L'}], [{'C'}, {'P', 'L', 'H'}], [{'L', 'H'}, {'P', 'C'}], [{'H'}, {'P', 'L', 'C'}], [{'L'}, {'P', 'C', 'H'}], [{'C'}, {'P', 'L', 'H'}], [{'L'}, {'P', 'C', 'H'}], [{'L', 'H'}, {'P', 'C'}], [{'H'}, {'P', 'L', 'C'}], [{'L'}, {'P', 'C', 'H'}], [{'L', 'H'}, {'P', 'C'}], [{'H'}, {'P', 'L', 'C'}], [{'L'}, {'P', 'C', 'H'}], [{'L', 'H'}, {'P', 'C'}], [{'P', 'L', 'H'}, {'C'}], [{'P', 'C', 'L', 'H'}, set()], [{'P', 'C', 'H'}, {'L'}], [{'P', 'L', 'H'}, {'C'}], [{'P', 'C', 'L'}, {'H'}], [{'P', 'L', 'H'}, {'C'}], [{'P', 'L', 'H'}, {'C'}], [{'P', 'C', 'L', 'H'}, set()], [{'P', 'L', 'H'}, {'C'}], [{'P', 'C', 'H'}, {'L'}], [{'P', 'C'}, {'L', 'H'}], [{'P', 'L', 'C'}, {'H'}], [{'P', 'C', 'H'}, {'L'}], [{'P', 'L', 'H'}, {'C'}], [{'P', 'C', 'L', 'H'}, set()], [{'P', 'C', 'H'}, {'L'}], [{'P', 'L', 'H'}, {'C'}], [{'P', 'C', 'L'}, {'H'}], [{'P', 'L', 'H'}, {'C'}], [{'P', 'C'}, {'L', 'H'}], [{'P', 'L', 'C'}, {'H'}], [{'P', 'C', 'H'}, {'L'}], [{'P', 'C', 'L'}, {'H'}], [{'P', 'L', 'H'}, {'C'}], [{'P', 'L', 'H'}, {'C'}], [{'P', 'C', 'L', 'H'}, set()], [{'P', 'C', 'H'}, {'L'}], [{'P', 'L', 'H'}, {'C'}], [{'P', 'C', 'L'}, {'H'}], [{'P', 'L', 'H'}, {'C'}], [{'P', 'L', 'H'}, {'C'}], [{'P', 'C', 'L', 'H'}, set()], [{'P', 'C', 'H'}, {'L'}], [{'P', 'L', 'H'}, {'C'}], [{'P', 'C', 'L'}, {'H'}], [{'P', 'L', 'H'}, {'C'}], [{'P', 'L', 'H'}, {'C'}], [{'P', 'C', 'L', 'H'}, set()], [{'L', 'H'}, {'P', 'C'}], [{'H'}, {'P', 'L', 'C'}], [{'L'}, {'P', 'C', 'H'}], [{'L', 'H'}, {'P', 'C'}], [{'H'}, {'P', 'C', 'L'}], [{'C'}, {'P', 'L', 'H'}], [{'L', 'H'}, {'P', 'C'}], [{'H'}, {'P', 'L', 'C'}], [{'L'}, {'P', 'C', 'H'}], [{'C'}, {'P', 'L', 'H'}], [{'L'}, {'P', 'C', 'H'}], [{'L', 'H'}, {'P', 'C'}], [{'H'}, {'P', 'L', 'C'}], [{'L'}, {'P', 'C', 'H'}], [{'L', 'H'}, {'P', 'C'}], [{'H'}, {'P', 'L', 'C'}], [{'L'}, {'P', 'C', 'H'}], [{'L', 'H'}, {'P', 'C'}], [{'L', 'H'}, {'P', 'C'}], [{'H'}, {'P', 'L', 'C'}], [{'L'}, {'P', 'C', 'H'}], [{'H'}, {'P', 'C', 'L'}], [{'C'}, {'P', 'L', 'H'}], [{'C'}, {'P', 'L', 'H'}]]\n"
     ]
    }
   ],
   "source": [
    "abiertos = [estado_inicial]\n",
    "cerrados = []\n",
    "\n",
    "actual = abiertos[0]\n",
    "while actual != estado_final and len(abiertos)>0:\n",
    "    abiertos.pop(0)\n",
    "    cerrados.append(actual)\n",
    "    for ns in states(actual):\n",
    "        if is_valid_state(ns):\n",
    "            abiertos.append(ns)\n",
    "    actual = abiertos[0]\n",
    "\n",
    "if actual == estado_final:\n",
    "    print(cerrados)\n",
    "else:    \n",
    "    print(\"No hay solución\")"
   ]
  },
  {
   "cell_type": "code",
   "execution_count": 5,
   "metadata": {},
   "outputs": [
    {
     "name": "stdout",
     "output_type": "stream",
     "text": [
      "Hay solución\n"
     ]
    }
   ],
   "source": [
    "abiertos=[estado_inicial]\n",
    "cerrados=[]\n",
    "\n",
    "actual=abiertos[0]\n",
    "while actual!=estado_final and len(abiertos)>0:#mientras actual no sea el estado final y en abiertos haya algo\n",
    "    abiertos.pop(0)#quita ese estado(en este caso el primero por eso es '0')\n",
    "    cerrados.append(actual)#el estado actual se añade a estados cerrados \n",
    "    for ns in states(actual):#ns es nuevo estado (va a recorrer a sus nuevos hijos)\n",
    "        if is_valid_state(ns):#si el estado es valido\n",
    "            abiertos.append(ns)#significa que habrá que vistar ese estado\n",
    "    \n",
    "    actual=abiertos[0]\n",
    "    \n",
    "if actual==estado_final:\n",
    "    print(\"Hay solución\")\n",
    "    \n",
    "else:\n",
    "    print(\"No hay solución\")"
   ]
  },
  {
   "cell_type": "code",
   "execution_count": 6,
   "metadata": {},
   "outputs": [
    {
     "data": {
      "text/plain": [
       "[[{'C', 'H', 'L', 'P'}, set()],\n",
       " [{'H', 'L'}, {'C', 'P'}],\n",
       " [{'H', 'L', 'P'}, {'C'}],\n",
       " [{'H'}, {'C', 'L', 'P'}],\n",
       " [{'C', 'H', 'P'}, {'L'}],\n",
       " [{'C'}, {'H', 'L', 'P'}],\n",
       " [{'C', 'P'}, {'H', 'L'}],\n",
       " [set(), {'C', 'H', 'L', 'P'}]]"
      ]
     },
     "execution_count": 6,
     "metadata": {},
     "output_type": "execute_result"
    }
   ],
   "source": [
    "#Función recursiva (el camino para llegar a la solución) Primera solución\n",
    "def búsquedaProfundidad(actual, cerrados=[]):\n",
    "    #En una función recursiva es importante saber que casos no son posibles\n",
    "    if actual==estado_final:\n",
    "        return [actual]\n",
    "    else:\n",
    "        for ns in states(actual):#se van generando los hijos\n",
    "            if is_valid_state(ns) and ns not in cerrados:#si es valido el estado (el hijo) y si NO LO HE VISITADO\n",
    "                cerrados.append(ns)\n",
    "                r=búsquedaProfundidad(ns, cerrados)#cuando llega al estado final; vuelve desde el estado final por los hijos (o estados) que atravesó para llegar a estado final \n",
    "                if r!=[]:#si r es diferente a vacio (osea que el estado es válido)\n",
    "                    r.insert(0, actual)#por lo que si encuentra un estado valido lo que hace es que, recursivamente vuelve y va marcando cuales son los estados con los que llegó a esa solución; ejemplo(si el estado final es [6] va hacer lo siguiente:1)[5,6]; 2)[4,6] y así hasta llegar [0,6])\n",
    "                    \n",
    "                    return r\n",
    "        return[]\n",
    "\n",
    "solución = búsquedaProfundidad(estado_inicial)\n",
    "solución"
   ]
  },
  {
   "cell_type": "code",
   "execution_count": 7,
   "metadata": {},
   "outputs": [
    {
     "name": "stdout",
     "output_type": "stream",
     "text": [
      "Solución:\n",
      "\t [{'P', 'L', 'C', 'H'}, set()]\n",
      "\t [{'L', 'H'}, {'P', 'C'}]\n",
      "\t [{'P', 'L', 'H'}, {'C'}]\n",
      "\t [{'H'}, {'P', 'L', 'C'}]\n",
      "\t [{'P', 'C', 'H'}, {'L'}]\n",
      "\t [{'C'}, {'P', 'L', 'H'}]\n",
      "\t [{'P', 'C'}, {'L', 'H'}]\n",
      "\t [set(), {'P', 'L', 'C', 'H'}]\n",
      "Solución:\n",
      "\t [{'P', 'L', 'C', 'H'}, set()]\n",
      "\t [{'L', 'H'}, {'P', 'C'}]\n",
      "\t [{'P', 'L', 'H'}, {'C'}]\n",
      "\t [{'L'}, {'P', 'C', 'H'}]\n",
      "\t [{'P', 'C', 'L'}, {'H'}]\n",
      "\t [{'C'}, {'P', 'L', 'H'}]\n",
      "\t [{'P', 'C'}, {'L', 'H'}]\n",
      "\t [set(), {'P', 'L', 'C', 'H'}]\n"
     ]
    }
   ],
   "source": [
    "#Función recursiva (el camino para llegar a la solución)BUSQUEDA DE TODAS LAS SOLUCIONES\n",
    "def búsquedaProfundidadALL(actual, path=[]):\n",
    "    #En una función recursiva es importante saber que casos no son posibles\n",
    "    if actual==estado_final:\n",
    "        print(\"Solución:\")#imprime la solución y sigue\n",
    "        for s in path: #imprime el los hijos donde va consiguiendo solución\n",
    "            print(\"\\t\",s)\n",
    "        print(\"\\t\",estado_final)#imprime el estado final al que llega\n",
    "\n",
    "    else:\n",
    "        path.append(actual)#se añade a si misma a la derecha\n",
    "        for ns in states(actual):#se van generando los hijos de actual\n",
    "            if is_valid_state(ns) and ns not in path:#si es valido el estado (el hijo) y no se genera un ciclo \n",
    "                búsquedaProfundidadALL(ns,path)#preguntar que hace\n",
    "        path.pop()\n",
    "        \n",
    "\n",
    "solución = búsquedaProfundidadALL(estado_inicial)\n",
    "solución"
   ]
  },
  {
   "cell_type": "code",
   "execution_count": null,
   "metadata": {},
   "outputs": [],
   "source": []
  }
 ],
 "metadata": {
  "kernelspec": {
   "display_name": "PIA",
   "language": "python",
   "name": "python3"
  },
  "language_info": {
   "codemirror_mode": {
    "name": "ipython",
    "version": 3
   },
   "file_extension": ".py",
   "mimetype": "text/x-python",
   "name": "python",
   "nbconvert_exporter": "python",
   "pygments_lexer": "ipython3",
   "version": "3.9.13"
  },
  "orig_nbformat": 4,
  "vscode": {
   "interpreter": {
    "hash": "47cac083a680ce02beb51c88967227a83e8f2e2d4e9e9cdd212dbfcb91d1bb7e"
   }
  }
 },
 "nbformat": 4,
 "nbformat_minor": 2
}
