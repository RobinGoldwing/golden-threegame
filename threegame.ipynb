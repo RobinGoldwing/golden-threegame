{
 "cells": [
  {
   "attachments": {},
   "cell_type": "markdown",
   "metadata": {},
   "source": [
    "# El paisano , el lobo, la oveja y el pienso"
   ]
  },
  {
   "cell_type": "code",
   "execution_count": 6,
   "metadata": {},
   "outputs": [
    {
     "name": "stdout",
     "output_type": "stream",
     "text": [
      "[{'L', 'H', 'C'}, {'P'}]\n",
      "[{'L', 'C'}, {'P', 'H'}]\n",
      "[{'H', 'C'}, {'L', 'P'}]\n",
      "[{'L', 'H'}, {'P', 'C'}]\n"
     ]
    }
   ],
   "source": [
    "import copy\n",
    "\n",
    "# P = Paisano\n",
    "# L = Lobo\n",
    "# C = Cordero\n",
    "# H = Heno\n",
    "\n",
    "estado_inicial = [{\"P\",\"L\",\"C\",\"H\"} , set()]\n",
    "estado_final = [set() , {\"P\",\"L\",\"C\",\"H\"}]\n",
    "\n",
    "def is_valid_state(s):\n",
    "    assert type(s) == list and len(s)==2\n",
    "    assert type(s[0]) == set\n",
    "    # assert type(s[1]) == set\n",
    "\n",
    "    def is_valid_shore(s):\n",
    "        if {\"P\"}     <= s:  return True\n",
    "        if {\"L\",\"C\"} <= s:  return False\n",
    "        if {\"C\",\"H\"} <= s:  return False\n",
    "        return True\n",
    "    \n",
    "    if is_valid_shore(s[0]) and is_valid_shore(s[1]): return True\n",
    "    else:                                             return False\n",
    "\n",
    "# Para comprobar si la funcion devuelve un True o False respectoa al estado dado en una y otra orilla\n",
    "# is_valid_state([{\"L\",\"H\"},{\"C\",\"P\"}])\n",
    "\n",
    "def states(s):\n",
    "    # assert type(s)== list and len(s)==2\n",
    "    # assert type(s[0]) == set\n",
    "\n",
    "\n",
    "    lp=0 if \"P\" in s[0] else 1     # lp = lado del lado del paisano\n",
    "    np=1 if \"P\" in s[0] else 0     # np = no esta el paisano\n",
    "\n",
    "    ns=copy.deepcopy(s)\n",
    "    ns[np].add(\"P\")\n",
    "    ns[lp].remove(\"P\")\n",
    "    yield ns\n",
    "\n",
    "    for c in s[lp].difference({\"P\"}):\n",
    "        ns=copy.deepcopy(s)\n",
    "        ns[np].add(\"P\")\n",
    "        ns[np].add(c)\n",
    "        ns[lp].remove(\"P\")\n",
    "        ns[lp].remove(c)\n",
    "        yield ns\n",
    "\n",
    "for s in states(estado_inicial):\n",
    "    print(s)"
   ]
  },
  {
   "cell_type": "code",
   "execution_count": 7,
   "metadata": {},
   "outputs": [
    {
     "name": "stdout",
     "output_type": "stream",
     "text": [
      "[{'L', 'H', 'C'}, {'P'}]\n",
      "[{'L', 'C'}, {'P', 'H'}]\n",
      "[{'H', 'C'}, {'L', 'P'}]\n",
      "[{'L', 'H'}, {'P', 'C'}]\n"
     ]
    }
   ],
   "source": [
    "import copy\n",
    "\n",
    "# P = Paisano\n",
    "# L = Lobo\n",
    "# C = Cordero\n",
    "# H = Heno\n",
    "\n",
    "estado_inicial = [{\"P\",\"L\",\"C\",\"H\"} , set()]\n",
    "estado_final = [set() , {\"P\",\"L\",\"C\",\"H\"}]\n",
    "\n",
    "def is_valid_state(s):\n",
    "    assert type(s) == list and len(s)==2\n",
    "    assert type(s[0]) == set\n",
    "    # assert type(s[1]) == set\n",
    "\n",
    "    def is_valid_shore(s):\n",
    "        if {\"P\"}     <= s:  return True\n",
    "        if {\"L\",\"C\"} <= s:  return False\n",
    "        if {\"C\",\"H\"} <= s:  return False\n",
    "        return True\n",
    "    \n",
    "    if is_valid_shore(s[0]) and is_valid_shore(s[1]): return True\n",
    "    else:                                             return False\n",
    "\n",
    "# Para comprobar si la funcion devuelve un True o False respectoa al estado dado en una y otra orilla\n",
    "# is_valid_state([{\"L\",\"H\"},{\"C\",\"P\"}])\n",
    "\n",
    "def states(s):\n",
    "    # assert type(s)== list and len(s)==2\n",
    "    # assert type(s[0]) == set\n",
    "\n",
    "\n",
    "    lp=0 if \"P\" in s[0] else 1     # lp = lado del lado del paisano\n",
    "    np=1 if \"P\" in s[0] else 0     # np = no esta el paisano\n",
    "\n",
    "    ns=copy.deepcopy(s)\n",
    "    ns[np].add(\"P\")\n",
    "    ns[lp].remove(\"P\")\n",
    "    yield ns\n",
    "\n",
    "    for c in s[lp].difference({\"P\"}):\n",
    "        ns=copy.deepcopy(s)\n",
    "        ns[np]=ns[np].union({\"P\",c})\n",
    "        ns[lp]=ns[lp].difference({\"P\",c})\n",
    "        yield ns\n",
    "\n",
    "for s in states(estado_inicial):\n",
    "    print(s)"
   ]
  },
  {
   "cell_type": "code",
   "execution_count": 8,
   "metadata": {},
   "outputs": [],
   "source": [
    "abiertos = [estado_inicial]\n",
    "cerrados = []\n",
    "\n",
    "actual = abiertos[0]\n",
    "while actual != estado_final and len(abiertos)>0:\n",
    "    abiertos.pop(0)\n",
    "    cerrados.append(actual)\n",
    "    for ns in states(actual):\n",
    "        if is_valid_state(ns):\n",
    "            abiertos.append(ns)\n",
    "    actual = abiertos[0]"
   ]
  },
  {
   "cell_type": "code",
   "execution_count": null,
   "metadata": {},
   "outputs": [],
   "source": []
  }
 ],
 "metadata": {
  "kernelspec": {
   "display_name": "base",
   "language": "python",
   "name": "python3"
  },
  "language_info": {
   "codemirror_mode": {
    "name": "ipython",
    "version": 3
   },
   "file_extension": ".py",
   "mimetype": "text/x-python",
   "name": "python",
   "nbconvert_exporter": "python",
   "pygments_lexer": "ipython3",
   "version": "3.9.13"
  },
  "orig_nbformat": 4,
  "vscode": {
   "interpreter": {
    "hash": "cc1332a8f7e0451bc5f848be8d720f7248ccdc90765305aee5ab7d17e4c29ab1"
   }
  }
 },
 "nbformat": 4,
 "nbformat_minor": 2
}
